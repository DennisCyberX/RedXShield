from nbformat import write, v4

# Create a minimal working notebook
simple_cells = [
    v4.new_markdown_cell("# RedXShield - Simple WHOIS NLP Training Notebook"),
    v4.new_code_cell("print(\"Hello, RedXShield AI Training!\")")
]

# Build the notebook
simple_notebook = v4.new_notebook(cells=simple_cells, metadata={
    "kernelspec": {
        "display_name": "Python 3",
        "language": "python",
        "name": "python3"
    },
    "language_info": {
        "name": "python",
        "version": "3.x"
    }
})

