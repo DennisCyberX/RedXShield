**backend/threat_db/schema.sql**
```sql
CREATE TABLE IF NOT EXISTS threats (
    id INTEGER PRIMARY KEY AUTOINCREMENT,
    domain TEXT NOT NULL,
    threat_type TEXT NOT NULL,
    confidence REAL,
    first_seen TIMESTAMP DEFAULT CURRENT_TIMESTAMP,
    last_updated TIMESTAMP DEFAULT CURRENT_TIMESTAMP,
    raw_data TEXT,
    is_active BOOLEAN DEFAULT TRUE
);

CREATE INDEX IF NOT EXISTS domain_idx ON threats(domain);
CREATE INDEX IF NOT EXISTS threat_type_idx ON threats(threat_type);
