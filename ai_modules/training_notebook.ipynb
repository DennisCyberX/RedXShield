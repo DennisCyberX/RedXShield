# RedXShield – WHOIS NLP & Hybrid Classifier Training Notebook

# 📦 Install required packages (uncomment if running on new environment)
# !pip install transformers datasets scikit-learn torch

# 🧠 Import libraries
import pandas as pd
import torch
from sklearn.model_selection import train_test_split
from transformers import BertTokenizer, BertForSequenceClassification, Trainer, TrainingArguments
from datasets import Dataset

# 📂 Load WHOIS dataset (must have 'text' and 'label' columns)
df = pd.read_csv("whois_data.csv")  # Replace with your dataset path
df = df[['text', 'label']].dropna()
print(f"Total samples: {len(df)}")

# 🧪 Split into training and testing sets
train_df, test_df = train_test_split(df, test_size=0.2, random_state=42)

# 🧼 Convert to Hugging Face datasets
train_dataset = Dataset.from_pandas(train_df)
test_dataset = Dataset.from_pandas(test_df)

# 🧾 Load tokenizer
tokenizer = BertTokenizer.from_pretrained("bert-base-uncased")

def tokenize_function(example):
    return tokenizer(example["text"], padding="max_length", truncation=True)

train_dataset = train_dataset.map(tokenize_function, batched=True)
test_dataset = test_dataset.map(tokenize_function, batched=True)

# 🧠 Load BERT classification model
model = BertForSequenceClassification.from_pretrained("bert-base-uncased", num_labels=2)

# ⚙️ Define training arguments
training_args = TrainingArguments(
    output_dir="./models/whois_bert",
    evaluation_strategy="epoch",
    num_train_epochs=3,
    per_device_train_batch_size=8,
    per_device_eval_batch_size=8,
    save_steps=500,
    save_total_limit=1,
    logging_dir='./logs',
    logging_steps=100,
    load_best_model_at_end=True
)

# 🚂 Train the model
trainer = Trainer(
    model=model,
    args=training_args,
    train_dataset=train_dataset,
    eval_dataset=test_dataset,
)

trainer.train()

# 💾 Save model and tokenizer
model.save_pretrained("./models/whois_bert")
tokenizer.save_pretrained("./models/whois_bert")

# 📊 Evaluate performance
eval_result = trainer.evaluate()
print("Evaluation Result:", eval_result)
